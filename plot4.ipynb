{
 "cells": [
  {
   "cell_type": "code",
   "execution_count": 1,
   "metadata": {},
   "outputs": [],
   "source": [
    "import pandas as pd"
   ]
  },
  {
   "cell_type": "code",
   "execution_count": 2,
   "metadata": {},
   "outputs": [],
   "source": [
    "import matplotlib.pyplot as plt"
   ]
  },
  {
   "cell_type": "code",
   "execution_count": 3,
   "metadata": {},
   "outputs": [],
   "source": [
    "df = pd.read_table(\"D:\\\\ucp semester8\\\\Big Data\\\\household_power_consumption.txt\")"
   ]
  },
  {
   "cell_type": "code",
   "execution_count": 4,
   "metadata": {},
   "outputs": [
    {
     "data": {
      "text/html": [
       "<div>\n",
       "<style scoped>\n",
       "    .dataframe tbody tr th:only-of-type {\n",
       "        vertical-align: middle;\n",
       "    }\n",
       "\n",
       "    .dataframe tbody tr th {\n",
       "        vertical-align: top;\n",
       "    }\n",
       "\n",
       "    .dataframe thead th {\n",
       "        text-align: right;\n",
       "    }\n",
       "</style>\n",
       "<table border=\"1\" class=\"dataframe\">\n",
       "  <thead>\n",
       "    <tr style=\"text-align: right;\">\n",
       "      <th></th>\n",
       "      <th>Date;Time;Global_active_power;Global_reactive_power;Voltage;Global_intensity;Sub_metering_1;Sub_metering_2;Sub_metering_3</th>\n",
       "    </tr>\n",
       "  </thead>\n",
       "  <tbody>\n",
       "    <tr>\n",
       "      <th>0</th>\n",
       "      <td>16/12/2006;17:24:00;4.216;0.418;234.840;18.400...</td>\n",
       "    </tr>\n",
       "    <tr>\n",
       "      <th>1</th>\n",
       "      <td>16/12/2006;17:25:00;5.360;0.436;233.630;23.000...</td>\n",
       "    </tr>\n",
       "    <tr>\n",
       "      <th>2</th>\n",
       "      <td>16/12/2006;17:26:00;5.374;0.498;233.290;23.000...</td>\n",
       "    </tr>\n",
       "    <tr>\n",
       "      <th>3</th>\n",
       "      <td>16/12/2006;17:27:00;5.388;0.502;233.740;23.000...</td>\n",
       "    </tr>\n",
       "    <tr>\n",
       "      <th>4</th>\n",
       "      <td>16/12/2006;17:28:00;3.666;0.528;235.680;15.800...</td>\n",
       "    </tr>\n",
       "  </tbody>\n",
       "</table>\n",
       "</div>"
      ],
      "text/plain": [
       "  Date;Time;Global_active_power;Global_reactive_power;Voltage;Global_intensity;Sub_metering_1;Sub_metering_2;Sub_metering_3\n",
       "0  16/12/2006;17:24:00;4.216;0.418;234.840;18.400...                                                                       \n",
       "1  16/12/2006;17:25:00;5.360;0.436;233.630;23.000...                                                                       \n",
       "2  16/12/2006;17:26:00;5.374;0.498;233.290;23.000...                                                                       \n",
       "3  16/12/2006;17:27:00;5.388;0.502;233.740;23.000...                                                                       \n",
       "4  16/12/2006;17:28:00;3.666;0.528;235.680;15.800...                                                                       "
      ]
     },
     "execution_count": 4,
     "metadata": {},
     "output_type": "execute_result"
    }
   ],
   "source": [
    "df.head()"
   ]
  },
  {
   "cell_type": "code",
   "execution_count": 5,
   "metadata": {},
   "outputs": [
    {
     "data": {
      "text/html": [
       "<div>\n",
       "<style scoped>\n",
       "    .dataframe tbody tr th:only-of-type {\n",
       "        vertical-align: middle;\n",
       "    }\n",
       "\n",
       "    .dataframe tbody tr th {\n",
       "        vertical-align: top;\n",
       "    }\n",
       "\n",
       "    .dataframe thead th {\n",
       "        text-align: right;\n",
       "    }\n",
       "</style>\n",
       "<table border=\"1\" class=\"dataframe\">\n",
       "  <thead>\n",
       "    <tr style=\"text-align: right;\">\n",
       "      <th></th>\n",
       "      <th>Date;Time;Global_active_power;Global_reactive_power;Voltage;Global_intensity;Sub_metering_1;Sub_metering_2;Sub_metering_3</th>\n",
       "    </tr>\n",
       "  </thead>\n",
       "  <tbody>\n",
       "    <tr>\n",
       "      <th>2075254</th>\n",
       "      <td>26/11/2010;20:58:00;0.946;0.000;240.430;4.000;...</td>\n",
       "    </tr>\n",
       "    <tr>\n",
       "      <th>2075255</th>\n",
       "      <td>26/11/2010;20:59:00;0.944;0.000;240.000;4.000;...</td>\n",
       "    </tr>\n",
       "    <tr>\n",
       "      <th>2075256</th>\n",
       "      <td>26/11/2010;21:00:00;0.938;0.000;239.820;3.800;...</td>\n",
       "    </tr>\n",
       "    <tr>\n",
       "      <th>2075257</th>\n",
       "      <td>26/11/2010;21:01:00;0.934;0.000;239.700;3.800;...</td>\n",
       "    </tr>\n",
       "    <tr>\n",
       "      <th>2075258</th>\n",
       "      <td>26/11/2010;21:02:00;0.932;0.000;239.550;3.800;...</td>\n",
       "    </tr>\n",
       "  </tbody>\n",
       "</table>\n",
       "</div>"
      ],
      "text/plain": [
       "        Date;Time;Global_active_power;Global_reactive_power;Voltage;Global_intensity;Sub_metering_1;Sub_metering_2;Sub_metering_3\n",
       "2075254  26/11/2010;20:58:00;0.946;0.000;240.430;4.000;...                                                                       \n",
       "2075255  26/11/2010;20:59:00;0.944;0.000;240.000;4.000;...                                                                       \n",
       "2075256  26/11/2010;21:00:00;0.938;0.000;239.820;3.800;...                                                                       \n",
       "2075257  26/11/2010;21:01:00;0.934;0.000;239.700;3.800;...                                                                       \n",
       "2075258  26/11/2010;21:02:00;0.932;0.000;239.550;3.800;...                                                                       "
      ]
     },
     "execution_count": 5,
     "metadata": {},
     "output_type": "execute_result"
    }
   ],
   "source": [
    "df.tail()"
   ]
  },
  {
   "cell_type": "code",
   "execution_count": 6,
   "metadata": {},
   "outputs": [],
   "source": [
    "column_names = ['Date', 'Time', 'Global_active_power', 'Global_reactive_power','Voltage', 'Global_intensity', 'Sub_metering_1', \n",
    "                'Sub_metering_2', 'Sub_metering_3']"
   ]
  },
  {
   "cell_type": "code",
   "execution_count": 7,
   "metadata": {},
   "outputs": [
    {
     "name": "stderr",
     "output_type": "stream",
     "text": [
      "C:\\Users\\hp\\AppData\\Local\\Temp\\ipykernel_8436\\1383559117.py:1: UserWarning: Parsing dates in %d/%m/%Y %H:%M:%S format when dayfirst=False (the default) was specified. Pass `dayfirst=True` or specify a format to silence this warning.\n",
      "  data = pd.read_table(\"D:\\\\ucp semester8\\\\Big Data\\\\household_power_consumption.txt \" , sep=';', header=0, names=column_names,\n"
     ]
    }
   ],
   "source": [
    "data = pd.read_table(\"D:\\\\ucp semester8\\\\Big Data\\\\household_power_consumption.txt \" , sep=';', header=0, names=column_names, \n",
    "parse_dates={'DateTime': ['Date', 'Time']}, index_col='DateTime', na_values='?', nrows=2000000) "
   ]
  },
  {
   "cell_type": "code",
   "execution_count": 8,
   "metadata": {},
   "outputs": [],
   "source": [
    "# Filter data for the specified dates\n",
    "data = data['2007-02-01':'2007-02-02']"
   ]
  },
  {
   "cell_type": "code",
   "execution_count": 9,
   "metadata": {},
   "outputs": [
    {
     "data": {
      "text/html": [
       "<div>\n",
       "<style scoped>\n",
       "    .dataframe tbody tr th:only-of-type {\n",
       "        vertical-align: middle;\n",
       "    }\n",
       "\n",
       "    .dataframe tbody tr th {\n",
       "        vertical-align: top;\n",
       "    }\n",
       "\n",
       "    .dataframe thead th {\n",
       "        text-align: right;\n",
       "    }\n",
       "</style>\n",
       "<table border=\"1\" class=\"dataframe\">\n",
       "  <thead>\n",
       "    <tr style=\"text-align: right;\">\n",
       "      <th></th>\n",
       "      <th>Global_active_power</th>\n",
       "      <th>Global_reactive_power</th>\n",
       "      <th>Voltage</th>\n",
       "      <th>Global_intensity</th>\n",
       "      <th>Sub_metering_1</th>\n",
       "      <th>Sub_metering_2</th>\n",
       "      <th>Sub_metering_3</th>\n",
       "    </tr>\n",
       "    <tr>\n",
       "      <th>DateTime</th>\n",
       "      <th></th>\n",
       "      <th></th>\n",
       "      <th></th>\n",
       "      <th></th>\n",
       "      <th></th>\n",
       "      <th></th>\n",
       "      <th></th>\n",
       "    </tr>\n",
       "  </thead>\n",
       "  <tbody>\n",
       "    <tr>\n",
       "      <th>2007-02-01 00:00:00</th>\n",
       "      <td>0.326</td>\n",
       "      <td>0.128</td>\n",
       "      <td>243.15</td>\n",
       "      <td>1.4</td>\n",
       "      <td>0.0</td>\n",
       "      <td>0.0</td>\n",
       "      <td>0.0</td>\n",
       "    </tr>\n",
       "    <tr>\n",
       "      <th>2007-02-01 00:01:00</th>\n",
       "      <td>0.326</td>\n",
       "      <td>0.130</td>\n",
       "      <td>243.32</td>\n",
       "      <td>1.4</td>\n",
       "      <td>0.0</td>\n",
       "      <td>0.0</td>\n",
       "      <td>0.0</td>\n",
       "    </tr>\n",
       "    <tr>\n",
       "      <th>2007-02-01 00:02:00</th>\n",
       "      <td>0.324</td>\n",
       "      <td>0.132</td>\n",
       "      <td>243.51</td>\n",
       "      <td>1.4</td>\n",
       "      <td>0.0</td>\n",
       "      <td>0.0</td>\n",
       "      <td>0.0</td>\n",
       "    </tr>\n",
       "    <tr>\n",
       "      <th>2007-02-01 00:03:00</th>\n",
       "      <td>0.324</td>\n",
       "      <td>0.134</td>\n",
       "      <td>243.90</td>\n",
       "      <td>1.4</td>\n",
       "      <td>0.0</td>\n",
       "      <td>0.0</td>\n",
       "      <td>0.0</td>\n",
       "    </tr>\n",
       "    <tr>\n",
       "      <th>2007-02-01 00:04:00</th>\n",
       "      <td>0.322</td>\n",
       "      <td>0.130</td>\n",
       "      <td>243.16</td>\n",
       "      <td>1.4</td>\n",
       "      <td>0.0</td>\n",
       "      <td>0.0</td>\n",
       "      <td>0.0</td>\n",
       "    </tr>\n",
       "  </tbody>\n",
       "</table>\n",
       "</div>"
      ],
      "text/plain": [
       "                     Global_active_power  Global_reactive_power  Voltage  \\\n",
       "DateTime                                                                   \n",
       "2007-02-01 00:00:00                0.326                  0.128   243.15   \n",
       "2007-02-01 00:01:00                0.326                  0.130   243.32   \n",
       "2007-02-01 00:02:00                0.324                  0.132   243.51   \n",
       "2007-02-01 00:03:00                0.324                  0.134   243.90   \n",
       "2007-02-01 00:04:00                0.322                  0.130   243.16   \n",
       "\n",
       "                     Global_intensity  Sub_metering_1  Sub_metering_2  \\\n",
       "DateTime                                                                \n",
       "2007-02-01 00:00:00               1.4             0.0             0.0   \n",
       "2007-02-01 00:01:00               1.4             0.0             0.0   \n",
       "2007-02-01 00:02:00               1.4             0.0             0.0   \n",
       "2007-02-01 00:03:00               1.4             0.0             0.0   \n",
       "2007-02-01 00:04:00               1.4             0.0             0.0   \n",
       "\n",
       "                     Sub_metering_3  \n",
       "DateTime                             \n",
       "2007-02-01 00:00:00             0.0  \n",
       "2007-02-01 00:01:00             0.0  \n",
       "2007-02-01 00:02:00             0.0  \n",
       "2007-02-01 00:03:00             0.0  \n",
       "2007-02-01 00:04:00             0.0  "
      ]
     },
     "execution_count": 9,
     "metadata": {},
     "output_type": "execute_result"
    }
   ],
   "source": [
    "data.head()"
   ]
  },
  {
   "cell_type": "code",
   "execution_count": 10,
   "metadata": {},
   "outputs": [
    {
     "data": {
      "text/html": [
       "<div>\n",
       "<style scoped>\n",
       "    .dataframe tbody tr th:only-of-type {\n",
       "        vertical-align: middle;\n",
       "    }\n",
       "\n",
       "    .dataframe tbody tr th {\n",
       "        vertical-align: top;\n",
       "    }\n",
       "\n",
       "    .dataframe thead th {\n",
       "        text-align: right;\n",
       "    }\n",
       "</style>\n",
       "<table border=\"1\" class=\"dataframe\">\n",
       "  <thead>\n",
       "    <tr style=\"text-align: right;\">\n",
       "      <th></th>\n",
       "      <th>Global_active_power</th>\n",
       "      <th>Global_reactive_power</th>\n",
       "      <th>Voltage</th>\n",
       "      <th>Global_intensity</th>\n",
       "      <th>Sub_metering_1</th>\n",
       "      <th>Sub_metering_2</th>\n",
       "      <th>Sub_metering_3</th>\n",
       "    </tr>\n",
       "    <tr>\n",
       "      <th>DateTime</th>\n",
       "      <th></th>\n",
       "      <th></th>\n",
       "      <th></th>\n",
       "      <th></th>\n",
       "      <th></th>\n",
       "      <th></th>\n",
       "      <th></th>\n",
       "    </tr>\n",
       "  </thead>\n",
       "  <tbody>\n",
       "    <tr>\n",
       "      <th>2007-02-02 23:55:00</th>\n",
       "      <td>3.696</td>\n",
       "      <td>0.226</td>\n",
       "      <td>240.90</td>\n",
       "      <td>15.2</td>\n",
       "      <td>0.0</td>\n",
       "      <td>1.0</td>\n",
       "      <td>18.0</td>\n",
       "    </tr>\n",
       "    <tr>\n",
       "      <th>2007-02-02 23:56:00</th>\n",
       "      <td>3.698</td>\n",
       "      <td>0.226</td>\n",
       "      <td>241.02</td>\n",
       "      <td>15.2</td>\n",
       "      <td>0.0</td>\n",
       "      <td>2.0</td>\n",
       "      <td>18.0</td>\n",
       "    </tr>\n",
       "    <tr>\n",
       "      <th>2007-02-02 23:57:00</th>\n",
       "      <td>3.684</td>\n",
       "      <td>0.224</td>\n",
       "      <td>240.48</td>\n",
       "      <td>15.2</td>\n",
       "      <td>0.0</td>\n",
       "      <td>1.0</td>\n",
       "      <td>18.0</td>\n",
       "    </tr>\n",
       "    <tr>\n",
       "      <th>2007-02-02 23:58:00</th>\n",
       "      <td>3.658</td>\n",
       "      <td>0.220</td>\n",
       "      <td>239.61</td>\n",
       "      <td>15.2</td>\n",
       "      <td>0.0</td>\n",
       "      <td>1.0</td>\n",
       "      <td>17.0</td>\n",
       "    </tr>\n",
       "    <tr>\n",
       "      <th>2007-02-02 23:59:00</th>\n",
       "      <td>3.680</td>\n",
       "      <td>0.224</td>\n",
       "      <td>240.37</td>\n",
       "      <td>15.2</td>\n",
       "      <td>0.0</td>\n",
       "      <td>2.0</td>\n",
       "      <td>18.0</td>\n",
       "    </tr>\n",
       "  </tbody>\n",
       "</table>\n",
       "</div>"
      ],
      "text/plain": [
       "                     Global_active_power  Global_reactive_power  Voltage  \\\n",
       "DateTime                                                                   \n",
       "2007-02-02 23:55:00                3.696                  0.226   240.90   \n",
       "2007-02-02 23:56:00                3.698                  0.226   241.02   \n",
       "2007-02-02 23:57:00                3.684                  0.224   240.48   \n",
       "2007-02-02 23:58:00                3.658                  0.220   239.61   \n",
       "2007-02-02 23:59:00                3.680                  0.224   240.37   \n",
       "\n",
       "                     Global_intensity  Sub_metering_1  Sub_metering_2  \\\n",
       "DateTime                                                                \n",
       "2007-02-02 23:55:00              15.2             0.0             1.0   \n",
       "2007-02-02 23:56:00              15.2             0.0             2.0   \n",
       "2007-02-02 23:57:00              15.2             0.0             1.0   \n",
       "2007-02-02 23:58:00              15.2             0.0             1.0   \n",
       "2007-02-02 23:59:00              15.2             0.0             2.0   \n",
       "\n",
       "                     Sub_metering_3  \n",
       "DateTime                             \n",
       "2007-02-02 23:55:00            18.0  \n",
       "2007-02-02 23:56:00            18.0  \n",
       "2007-02-02 23:57:00            18.0  \n",
       "2007-02-02 23:58:00            17.0  \n",
       "2007-02-02 23:59:00            18.0  "
      ]
     },
     "execution_count": 10,
     "metadata": {},
     "output_type": "execute_result"
    }
   ],
   "source": [
    "data.tail()"
   ]
  },
  {
   "cell_type": "code",
   "execution_count": 11,
   "metadata": {},
   "outputs": [
    {
     "data": {
      "image/png": "[encoded data removed]",
      "text/plain": [
       "<Figure size 600x600 with 1 Axes>"
      ]
     },
     "metadata": {},
     "output_type": "display_data"
    }
   ],
   "source": [
    "# Plot 4: Global Active Power Density\n",
    "plt.figure(figsize=(6, 6))\n",
    "plt.hist(data['Global_active_power'], bins=30, color='orange', alpha=0.7)\n",
    "plt.title('Global Active Power Density')\n",
    "plt.xlabel('Global Active Power (kW)')\n",
    "plt.ylabel('Frequency')\n",
    "plt.tight_layout()\n",
    "plt.savefig('plot4.png', dpi=100)\n"
   ]
  },
  {
   "cell_type": "code",
   "execution_count": null,
   "metadata": {},
   "outputs": [],
   "source": []
  }
 ],
 "metadata": {
  "kernelspec": {
   "display_name": "Python 3 (ipykernel)",
   "language": "python",
   "name": "python3"
  },
  "language_info": {
   "codemirror_mode": {
    "name": "ipython",
    "version": 3
   },
   "file_extension": ".py",
   "mimetype": "text/x-python",
   "name": "python",
   "nbconvert_exporter": "python",
   "pygments_lexer": "ipython3",
   "version": "3.11.7"
  }
 },
 "nbformat": 4,
 "nbformat_minor": 4
}
